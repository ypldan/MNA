{
 "cells": [
  {
   "cell_type": "markdown",
   "metadata": {},
   "source": [
    "# Лабараторная работа №3\n",
    "\n",
    "### Ярмалкевіч Данііл, 3 курс 3 група"
   ]
  },
  {
   "cell_type": "markdown",
   "metadata": {},
   "source": [
    "1. Карыстаючы метад прэдыктар-карэктар 3-га парадку дакладнасці і палажыўшы для пачатку $h=0.2$, знайсці рашэнне наступнай задачы Кашы з дакладнасцю $\\varepsilon = 10^{-4}$, забяспечваючы яе шляхом параўнання $y_{n+1}^{[3]}$ і $y_{n+1}^{[4]}$:\n",
    "$$ \n",
    "a) \\ u'=\\frac{u-1}{u^2+1}, \\ u(0)=1, \\ x \\in [0,1]\n",
    "$$"
   ]
  },
  {
   "cell_type": "code",
   "execution_count": 8,
   "metadata": {},
   "outputs": [],
   "source": [
    "import numpy as np\n",
    "import pandas as pd"
   ]
  },
  {
   "cell_type": "code",
   "execution_count": 9,
   "metadata": {},
   "outputs": [],
   "source": [
    "def f(x, u):\n",
    "    return (u - 1) / (u ** 2 + 1)"
   ]
  },
  {
   "cell_type": "code",
   "execution_count": 10,
   "metadata": {},
   "outputs": [],
   "source": [
    "def predictor_corrector(f, h, eps, a, b, initial):\n",
    "    to_continue = True\n",
    "    while to_continue:\n",
    "        x = np.arange(a, b+h-0.00001, h)\n",
    "        y = np.zeros(len(x))\n",
    "        y[0] = initial\n",
    "        for i in range(1, len(y)):\n",
    "            y1 = y[i-1] + h / 4 * f(x[i-1], y[i-1])\n",
    "            y2 = y[i-1] + h / 2 * f(x[i-1]+h/4, y1)\n",
    "            y3 = y[i-1] + h * f(x[i-1]+h/2, y2)\n",
    "            y4 = y[i-1] + h / 6 * (f(x[i-1], y[i-1]) + \n",
    "                                   4 * f(x[i-1]+h/2, y2) + \n",
    "                                   f(x[i], y3))\n",
    "            if abs(y4 - y3) > eps:\n",
    "                h /= 2\n",
    "                break\n",
    "            y[i] = y4\n",
    "            if i == len(y) - 1:\n",
    "                to_continue = False\n",
    "    return x, y"
   ]
  },
  {
   "cell_type": "code",
   "execution_count": 11,
   "metadata": {},
   "outputs": [],
   "source": [
    "x, y = predictor_corrector(f, 0.2, 10 ** -4, 1, 2, 1)\n",
    "data = pd.DataFrame({'x': x, 'y': y})"
   ]
  },
  {
   "cell_type": "code",
   "execution_count": 12,
   "metadata": {},
   "outputs": [
    {
     "data": {
      "text/html": [
       "<div>\n",
       "<style scoped>\n",
       "    .dataframe tbody tr th:only-of-type {\n",
       "        vertical-align: middle;\n",
       "    }\n",
       "\n",
       "    .dataframe tbody tr th {\n",
       "        vertical-align: top;\n",
       "    }\n",
       "\n",
       "    .dataframe thead th {\n",
       "        text-align: right;\n",
       "    }\n",
       "</style>\n",
       "<table border=\"1\" class=\"dataframe\">\n",
       "  <thead>\n",
       "    <tr style=\"text-align: right;\">\n",
       "      <th></th>\n",
       "      <th>x</th>\n",
       "      <th>y</th>\n",
       "    </tr>\n",
       "  </thead>\n",
       "  <tbody>\n",
       "    <tr>\n",
       "      <th>0</th>\n",
       "      <td>1.0</td>\n",
       "      <td>1.0</td>\n",
       "    </tr>\n",
       "    <tr>\n",
       "      <th>1</th>\n",
       "      <td>1.2</td>\n",
       "      <td>1.0</td>\n",
       "    </tr>\n",
       "    <tr>\n",
       "      <th>2</th>\n",
       "      <td>1.4</td>\n",
       "      <td>1.0</td>\n",
       "    </tr>\n",
       "    <tr>\n",
       "      <th>3</th>\n",
       "      <td>1.6</td>\n",
       "      <td>1.0</td>\n",
       "    </tr>\n",
       "    <tr>\n",
       "      <th>4</th>\n",
       "      <td>1.8</td>\n",
       "      <td>1.0</td>\n",
       "    </tr>\n",
       "    <tr>\n",
       "      <th>5</th>\n",
       "      <td>2.0</td>\n",
       "      <td>1.0</td>\n",
       "    </tr>\n",
       "  </tbody>\n",
       "</table>\n",
       "</div>"
      ],
      "text/plain": [
       "     x    y\n",
       "0  1.0  1.0\n",
       "1  1.2  1.0\n",
       "2  1.4  1.0\n",
       "3  1.6  1.0\n",
       "4  1.8  1.0\n",
       "5  2.0  1.0"
      ]
     },
     "execution_count": 12,
     "metadata": {},
     "output_type": "execute_result"
    }
   ],
   "source": [
    "data"
   ]
  }
 ],
 "metadata": {
  "kernelspec": {
   "display_name": "Python 3",
   "language": "python",
   "name": "python3"
  },
  "language_info": {
   "codemirror_mode": {
    "name": "ipython",
    "version": 3
   },
   "file_extension": ".py",
   "mimetype": "text/x-python",
   "name": "python",
   "nbconvert_exporter": "python",
   "pygments_lexer": "ipython3",
   "version": "3.7.0"
  }
 },
 "nbformat": 4,
 "nbformat_minor": 2
}
